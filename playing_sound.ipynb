{
 "cells": [
  {
   "cell_type": "code",
   "execution_count": 1,
   "metadata": {},
   "outputs": [
    {
     "name": "stderr",
     "output_type": "stream",
     "text": [
      "c:\\Users\\mahim\\.conda\\envs\\DS203_1\\Lib\\site-packages\\tqdm\\auto.py:21: TqdmWarning: IProgress not found. Please update jupyter and ipywidgets. See https://ipywidgets.readthedocs.io/en/stable/user_install.html\n",
      "  from .autonotebook import tqdm as notebook_tqdm\n"
     ]
    }
   ],
   "source": [
    "import pandas as pd\n",
    "import numpy as np\n",
    "import librosa\n",
    "import soundfile as sf\n",
    "import noisereduce as nr\n",
    "from scipy.signal import butter, lfilter"
   ]
  },
  {
   "cell_type": "code",
   "execution_count": 2,
   "metadata": {},
   "outputs": [
    {
     "name": "stdout",
     "output_type": "stream",
     "text": [
      "Audio signal saved successfully as '5_refined_clear.wav'.\n"
     ]
    }
   ],
   "source": [
    "def invert_MFCC_to_audio(mfcc_coefficients, sr=44100, n_iter=64):\n",
    "    \"\"\"\n",
    "    Invert MFCC coefficients back to audio signal.\n",
    "    \n",
    "    Parameters:\n",
    "    mfcc_coefficients (numpy.ndarray): The MFCC coefficients.\n",
    "    sr (int): The sampling rate of the audio.\n",
    "    n_iter (int): Number of iterations for the Griffin-Lim algorithm.\n",
    "    \n",
    "    Returns:\n",
    "    numpy.ndarray: The reconstructed audio signal.\n",
    "    \"\"\"\n",
    "    mfcc_coefficients = np.nan_to_num(mfcc_coefficients)\n",
    "    mel_spectrogram = librosa.feature.inverse.mfcc_to_mel(mfcc_coefficients)\n",
    "    mel_spectrogram = np.nan_to_num(mel_spectrogram)\n",
    "    audio_signal = librosa.feature.inverse.mel_to_audio(mel_spectrogram, sr=sr, n_iter=n_iter)\n",
    "    audio_signal = np.nan_to_num(audio_signal)\n",
    "    \n",
    "    return audio_signal\n",
    "def normalize_audio(audio_signal):\n",
    "    \n",
    "    \n",
    "    return librosa.util.normalize(audio_signal)\n",
    "\n",
    "def butter_highpass(cutoff, fs, order=8):\n",
    "    \n",
    "    nyquist = 0.5 * fs\n",
    "    normal_cutoff = cutoff / nyquist\n",
    "    b, a = butter(order, normal_cutoff, btype='high', analog=False)\n",
    "    return b, a\n",
    "\n",
    "def highpass_filter(audio_signal, cutoff=150, fs=44100, order=8):\n",
    "    \n",
    "    b, a = butter_highpass(cutoff, fs, order=order)\n",
    "    y = lfilter(b, a, audio_signal)\n",
    "    return y\n",
    "\n",
    "# Read the CSV file into a pandas DataFrame\n",
    "data = pd.read_csv('05-MFCC.csv', header=None)\n",
    "\n",
    "# Convert the single row DataFrame to a numpy array\n",
    "mfccs = data.values.flatten()\n",
    "\n",
    "# Reshape the MFCC coefficients to the correct 2D array format\n",
    "# Assuming the original MFCCs had 20 coefficients per frame\n",
    "n_mfcc = 20\n",
    "mfccs = mfccs.reshape((n_mfcc, -1))\n",
    "\n",
    "# Invert MFCC to audio with increased Griffin-Lim iterations\n",
    "audio_signal = invert_MFCC_to_audio(mfccs, sr=44100, n_iter=64)\n",
    "\n",
    "# Apply noise reduction without the use_tensorflow parameter\n",
    "audio_signal = nr.reduce_noise(y=audio_signal, sr=44100, prop_decrease=0.9)\n",
    "\n",
    "# Normalize the audio signal\n",
    "audio_signal = normalize_audio(audio_signal)\n",
    "\n",
    "# Apply a higher-order high-pass filter to remove low-frequency noise\n",
    "audio_signal = highpass_filter(audio_signal, cutoff=150, fs=44100, order=8)\n",
    "\n",
    "# Store the audio signal to a file\n",
    "sf.write('5_refined_clear.wav', audio_signal, 44100)\n",
    "\n",
    "print(\"Audio signal saved successfully as '5_refined_clear.wav'.\")"
   ]
  },
  {
   "cell_type": "code",
   "execution_count": null,
   "metadata": {},
   "outputs": [],
   "source": []
  }
 ],
 "metadata": {
  "kernelspec": {
   "display_name": "DS203_1",
   "language": "python",
   "name": "python3"
  },
  "language_info": {
   "codemirror_mode": {
    "name": "ipython",
    "version": 3
   },
   "file_extension": ".py",
   "mimetype": "text/x-python",
   "name": "python",
   "nbconvert_exporter": "python",
   "pygments_lexer": "ipython3",
   "version": "3.11.7"
  }
 },
 "nbformat": 4,
 "nbformat_minor": 2
}
